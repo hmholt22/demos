{
 "cells": [
  {
   "cell_type": "code",
   "execution_count": 1,
   "id": "7459e83b",
   "metadata": {},
   "outputs": [
    {
     "name": "stdout",
     "output_type": "stream",
     "text": [
      "TensorFlow version: 2.9.1\n"
     ]
    }
   ],
   "source": [
    "import tensorflow as tf\n",
    "import numpy as np\n",
    "import pandas as pd\n",
    "import math\n",
    "from tensorflow.keras.layers import Dense\n",
    "print(\"TensorFlow version:\", tf.__version__)"
   ]
  },
  {
   "cell_type": "code",
   "execution_count": 2,
   "id": "2b7c27eb",
   "metadata": {},
   "outputs": [],
   "source": [
    "x = np.array([[200.0, 17.0]])"
   ]
  },
  {
   "cell_type": "code",
   "execution_count": 3,
   "id": "20dcc900",
   "metadata": {},
   "outputs": [],
   "source": [
    "layer_1 = Dense(units=3, activation=\"sigmoid\")\n",
    "a1 = layer_1(x)"
   ]
  },
  {
   "cell_type": "code",
   "execution_count": 4,
   "id": "776e8255",
   "metadata": {},
   "outputs": [],
   "source": [
    "layer_2 = Dense(units=1, activation=\"sigmoid\")\n",
    "a2 = layer_2(a1)"
   ]
  },
  {
   "cell_type": "code",
   "execution_count": 5,
   "id": "071756c2",
   "metadata": {},
   "outputs": [
    {
     "data": {
      "text/plain": [
       "1"
      ]
     },
     "execution_count": 5,
     "metadata": {},
     "output_type": "execute_result"
    }
   ],
   "source": [
    "yhat = 1 if a2 > 0.5 else 0\n",
    "yhat"
   ]
  },
  {
   "cell_type": "code",
   "execution_count": 10,
   "id": "7f290911",
   "metadata": {},
   "outputs": [
    {
     "name": "stdout",
     "output_type": "stream",
     "text": [
      "tf.Tensor([[0. 1. 0.]], shape=(1, 3), dtype=float32)\n",
      "tf.Tensor([[0.70006204]], shape=(1, 1), dtype=float32)\n"
     ]
    }
   ],
   "source": [
    "print(a1)\n",
    "print(a2)"
   ]
  }
 ],
 "metadata": {
  "kernelspec": {
   "display_name": "Python 3 (ipykernel)",
   "language": "python",
   "name": "python3"
  },
  "language_info": {
   "codemirror_mode": {
    "name": "ipython",
    "version": 3
   },
   "file_extension": ".py",
   "mimetype": "text/x-python",
   "name": "python",
   "nbconvert_exporter": "python",
   "pygments_lexer": "ipython3",
   "version": "3.9.7"
  }
 },
 "nbformat": 4,
 "nbformat_minor": 5
}
