{
 "cells": [
  {
   "cell_type": "code",
   "execution_count": 1,
   "id": "e4294c17",
   "metadata": {},
   "outputs": [],
   "source": [
    "import tensorflow as tf\n",
    "from tensorflow import keras"
   ]
  },
  {
   "cell_type": "code",
   "execution_count": 2,
   "id": "332b9aff",
   "metadata": {},
   "outputs": [
    {
     "name": "stdout",
     "output_type": "stream",
     "text": [
      "Downloading data from https://storage.googleapis.com/tensorflow/tf-keras-datasets/mnist.npz\n",
      "11490434/11490434 [==============================] - 0s 0us/step\n"
     ]
    }
   ],
   "source": [
    "(train_images, train_labels), (test_images, test_labels) = \\\n",
    "keras.datasets.mnist.load_data()"
   ]
  },
  {
   "cell_type": "code",
   "execution_count": 43,
   "id": "58d6abf8",
   "metadata": {},
   "outputs": [
    {
     "name": "stdout",
     "output_type": "stream",
     "text": [
      "Epoch 1/6\n",
      "1875/1875 [==============================] - 6s 3ms/step - loss: 2.4784 - sparse_categorical_accuracy: 0.8543\n",
      "Epoch 2/6\n",
      "1875/1875 [==============================] - 5s 3ms/step - loss: 0.3958 - sparse_categorical_accuracy: 0.9063\n",
      "Epoch 3/6\n",
      "1875/1875 [==============================] - 5s 3ms/step - loss: 0.2880 - sparse_categorical_accuracy: 0.9276\n",
      "Epoch 4/6\n",
      "1875/1875 [==============================] - 5s 3ms/step - loss: 0.2543 - sparse_categorical_accuracy: 0.9373\n",
      "Epoch 5/6\n",
      "1875/1875 [==============================] - 5s 3ms/step - loss: 0.2295 - sparse_categorical_accuracy: 0.9422\n",
      "Epoch 6/6\n",
      "1875/1875 [==============================] - 5s 3ms/step - loss: 0.2178 - sparse_categorical_accuracy: 0.9470\n"
     ]
    },
    {
     "data": {
      "text/plain": [
       "<keras.callbacks.History at 0x174b96e9eb0>"
      ]
     },
     "execution_count": 43,
     "metadata": {},
     "output_type": "execute_result"
    }
   ],
   "source": [
    "#model = keras.Sequential([\n",
    "#    keras.layers.Flatten(input_shape=(28,28)), \n",
    "#    keras.layers.Dense(1028, activation = tf.nn.relu),\n",
    "#    keras.layers.Dense(250, activation= tf.nn.relu),\n",
    "#    keras.layers.Dense(10, activation= tf.nn.softmax)\n",
    "#])\n",
    "\n",
    "\n",
    "model = tf.keras.models.Sequential([\n",
    "  tf.keras.layers.Flatten(input_shape=(28, 28)),\n",
    "  tf.keras.layers.Dense(128, activation='relu'),\n",
    "  tf.keras.layers.Dense(10)\n",
    "])\n",
    "model.compile(\n",
    "    optimizer=tf.keras.optimizers.Adam(0.001),\n",
    "    loss=tf.keras.losses.SparseCategoricalCrossentropy(from_logits=True),\n",
    "    metrics=[tf.keras.metrics.SparseCategoricalAccuracy()],\n",
    ")\n",
    "\n",
    "model.fit(\n",
    "    train_images,\n",
    "    train_labels,\n",
    "    epochs=6)"
   ]
  },
  {
   "cell_type": "code",
   "execution_count": 40,
   "id": "73657c71",
   "metadata": {},
   "outputs": [],
   "source": [
    "opt = keras.optimizers.Adam(learning_rate=0.01)\n",
    "model.compile(optimizer=opt,\n",
    "             loss = 'sparse_categorical_crossentropy',\n",
    "             metrics = ['accuracy'])"
   ]
  },
  {
   "cell_type": "code",
   "execution_count": 41,
   "id": "24dfda08",
   "metadata": {},
   "outputs": [
    {
     "name": "stdout",
     "output_type": "stream",
     "text": [
      "Epoch 1/5\n",
      "1875/1875 [==============================] - 15s 7ms/step - loss: 4.5815 - accuracy: 0.7809\n",
      "Epoch 2/5\n",
      "1875/1875 [==============================] - 14s 8ms/step - loss: 1.8289 - accuracy: 0.3570\n",
      "Epoch 3/5\n",
      "1875/1875 [==============================] - 14s 8ms/step - loss: 2.3030 - accuracy: 0.1091\n",
      "Epoch 4/5\n",
      "1875/1875 [==============================] - 15s 8ms/step - loss: 2.3026 - accuracy: 0.1101\n",
      "Epoch 5/5\n",
      "1875/1875 [==============================] - 14s 8ms/step - loss: 2.3025 - accuracy: 0.1098\n"
     ]
    },
    {
     "data": {
      "text/plain": [
       "<keras.callbacks.History at 0x174b95f7df0>"
      ]
     },
     "execution_count": 41,
     "metadata": {},
     "output_type": "execute_result"
    }
   ],
   "source": [
    "model.fit(train_images, train_labels, epochs = 5)"
   ]
  },
  {
   "cell_type": "code",
   "execution_count": 24,
   "id": "80117a9c",
   "metadata": {},
   "outputs": [
    {
     "name": "stdout",
     "output_type": "stream",
     "text": [
      "313/313 [==============================] - 1s 4ms/step - loss: 0.4233 - accuracy: 0.9412\n",
      "test accuracy: 0.9412000179290771\n"
     ]
    }
   ],
   "source": [
    "test_loss, test_acc = model.evaluate(test_images, test_labels)\n",
    "print('test accuracy:', test_acc)"
   ]
  },
  {
   "cell_type": "code",
   "execution_count": 25,
   "id": "12db0092",
   "metadata": {},
   "outputs": [
    {
     "name": "stdout",
     "output_type": "stream",
     "text": [
      "313/313 [==============================] - 1s 4ms/step\n"
     ]
    }
   ],
   "source": [
    "predictions = model.predict(test_images)"
   ]
  },
  {
   "cell_type": "code",
   "execution_count": 27,
   "id": "15c2ffd1",
   "metadata": {},
   "outputs": [
    {
     "data": {
      "text/plain": [
       "array([[0.0000000e+00, 1.8102015e-28, 2.8589368e-29, ..., 1.0000000e+00,\n",
       "        1.8028187e-38, 1.4382344e-27],\n",
       "       [1.1500871e-18, 2.6423904e-14, 1.0000000e+00, ..., 2.9264215e-22,\n",
       "        1.6827018e-23, 0.0000000e+00],\n",
       "       [0.0000000e+00, 1.0000000e+00, 3.9107648e-27, ..., 1.4278102e-19,\n",
       "        4.9341401e-33, 5.9922355e-26],\n",
       "       ...,\n",
       "       [1.7484049e-31, 0.0000000e+00, 6.8986134e-37, ..., 1.6046518e-10,\n",
       "        2.2138349e-17, 6.0733645e-12],\n",
       "       [4.0004504e-28, 0.0000000e+00, 0.0000000e+00, ..., 0.0000000e+00,\n",
       "        7.1090620e-34, 0.0000000e+00],\n",
       "       [5.7241219e-19, 7.9354721e-24, 1.2161972e-16, ..., 1.4743914e-31,\n",
       "        9.7264584e-12, 6.0787378e-12]], dtype=float32)"
      ]
     },
     "execution_count": 27,
     "metadata": {},
     "output_type": "execute_result"
    }
   ],
   "source": [
    "predictions"
   ]
  }
 ],
 "metadata": {
  "kernelspec": {
   "display_name": "Python 3 (ipykernel)",
   "language": "python",
   "name": "python3"
  },
  "language_info": {
   "codemirror_mode": {
    "name": "ipython",
    "version": 3
   },
   "file_extension": ".py",
   "mimetype": "text/x-python",
   "name": "python",
   "nbconvert_exporter": "python",
   "pygments_lexer": "ipython3",
   "version": "3.9.7"
  }
 },
 "nbformat": 4,
 "nbformat_minor": 5
}
